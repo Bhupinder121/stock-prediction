{
 "cells": [
  {
   "cell_type": "markdown",
   "id": "1eea1010",
   "metadata": {},
   "source": [
    "# Importing library"
   ]
  },
  {
   "cell_type": "code",
   "execution_count": 37,
   "id": "97da2e42",
   "metadata": {},
   "outputs": [],
   "source": [
    "import numpy as np\n",
    "import matplotlib.pyplot as plt\n",
    "import pandas as pd\n",
    "import pandas_datareader as web\n",
    "import datetime as dt\n",
    "\n",
    "from sklearn.preprocessing import MinMaxScaler\n",
    "from tensorflow.keras.models import Sequential\n",
    "from tensorflow.keras.layers import Dense, Dropout, LSTM"
   ]
  },
  {
   "cell_type": "markdown",
   "id": "2ee6fe3f",
   "metadata": {},
   "source": [
    "## Load Data"
   ]
  },
  {
   "cell_type": "code",
   "execution_count": 38,
   "id": "82bf10bc",
   "metadata": {},
   "outputs": [],
   "source": [
    "company = \"GOOG\" #Google company"
   ]
  },
  {
   "cell_type": "code",
   "execution_count": 47,
   "id": "416bd8c6",
   "metadata": {},
   "outputs": [],
   "source": [
    "start = dt.datetime(2010, 1, 1)\n",
    "end = dt.datetime(2021, 1, 1)"
   ]
  },
  {
   "cell_type": "code",
   "execution_count": 48,
   "id": "30605acf",
   "metadata": {
    "scrolled": true
   },
   "outputs": [],
   "source": [
    "data = web.get_data_stooq(company, start=start, end=end)"
   ]
  },
  {
   "cell_type": "markdown",
   "id": "fa16f548",
   "metadata": {},
   "source": [
    "## Prepare Data"
   ]
  },
  {
   "cell_type": "code",
   "execution_count": 49,
   "id": "d188a087",
   "metadata": {},
   "outputs": [],
   "source": [
    "scaler = MinMaxScaler(feature_range=(0, 1))\n",
    "scaled_data = scaler.fit_transform(data['Close'].values.reshape(-1, 1))\n",
    "\n",
    "prediction_days = 60\n",
    "\n",
    "x_train = []\n",
    "y_train = []\n",
    "\n",
    "for x in range(prediction_days, len(scaled_data)):\n",
    "    x_train.append(scaled_data[x-prediction_days:x, 0])\n",
    "    y_train.append(scaled_data[x, 0])\n",
    "\n",
    "x_train, y_train = np.array(x_train), np.array(y_train)\n",
    "x_train = np.reshape(x_train, (x_train.shape[0], x_train.shape[1], 1))"
   ]
  },
  {
   "cell_type": "markdown",
   "id": "ed2d02bb",
   "metadata": {},
   "source": [
    "## Bulid The Model"
   ]
  },
  {
   "cell_type": "code",
   "execution_count": 44,
   "id": "5f5f4578",
   "metadata": {},
   "outputs": [],
   "source": [
    "model = Sequential()"
   ]
  },
  {
   "cell_type": "code",
   "execution_count": 45,
   "id": "22cab5b7",
   "metadata": {},
   "outputs": [],
   "source": [
    "model.add(LSTM(units=50, return_sequences=True, input_shape=(x_train.shape[1], 1)))\n",
    "model.add(Dropout(0.2))\n",
    "model.add(LSTM(units=50, return_sequences=True))\n",
    "model.add(Dropout(0.2))\n",
    "model.add(LSTM(units=50))\n",
    "model.add(Dropout(0.2))\n",
    "model.add(Dense(units=1))"
   ]
  },
  {
   "cell_type": "code",
   "execution_count": 46,
   "id": "bb2bd7af",
   "metadata": {},
   "outputs": [],
   "source": [
    "model.compile(optimizer='adam', loss='mean_squared_error')"
   ]
  },
  {
   "cell_type": "code",
   "execution_count": 50,
   "id": "216cdf5e",
   "metadata": {},
   "outputs": [
    {
     "name": "stdout",
     "output_type": "stream",
     "text": [
      "Epoch 1/25\n",
      "52/52 [==============================] - 8s 20ms/step - loss: 0.0089\n",
      "Epoch 2/25\n",
      "52/52 [==============================] - 1s 15ms/step - loss: 0.0032\n",
      "Epoch 3/25\n",
      "52/52 [==============================] - 1s 15ms/step - loss: 0.0027\n",
      "Epoch 4/25\n",
      "52/52 [==============================] - 1s 15ms/step - loss: 0.0026\n",
      "Epoch 5/25\n",
      "52/52 [==============================] - 1s 15ms/step - loss: 0.0026\n",
      "Epoch 6/25\n",
      "52/52 [==============================] - 1s 15ms/step - loss: 0.0024\n",
      "Epoch 7/25\n",
      "52/52 [==============================] - 1s 15ms/step - loss: 0.0019\n",
      "Epoch 8/25\n",
      "52/52 [==============================] - 1s 14ms/step - loss: 0.0018\n",
      "Epoch 9/25\n",
      "52/52 [==============================] - 1s 14ms/step - loss: 0.0021\n",
      "Epoch 10/25\n",
      "52/52 [==============================] - 1s 14ms/step - loss: 0.0017\n",
      "Epoch 11/25\n",
      "52/52 [==============================] - 1s 15ms/step - loss: 0.0018\n",
      "Epoch 12/25\n",
      "52/52 [==============================] - 1s 15ms/step - loss: 0.0016\n",
      "Epoch 13/25\n",
      "52/52 [==============================] - 1s 14ms/step - loss: 0.0017\n",
      "Epoch 14/25\n",
      "52/52 [==============================] - 1s 14ms/step - loss: 0.0014\n",
      "Epoch 15/25\n",
      "52/52 [==============================] - 1s 15ms/step - loss: 0.0014\n",
      "Epoch 16/25\n",
      "52/52 [==============================] - 1s 15ms/step - loss: 0.0016\n",
      "Epoch 17/25\n",
      "52/52 [==============================] - 1s 15ms/step - loss: 0.0015\n",
      "Epoch 18/25\n",
      "52/52 [==============================] - 1s 15ms/step - loss: 0.0014\n",
      "Epoch 19/25\n",
      "52/52 [==============================] - 1s 15ms/step - loss: 0.0015\n",
      "Epoch 20/25\n",
      "52/52 [==============================] - 1s 14ms/step - loss: 0.0016\n",
      "Epoch 21/25\n",
      "52/52 [==============================] - 1s 14ms/step - loss: 0.0012\n",
      "Epoch 22/25\n",
      "52/52 [==============================] - 1s 14ms/step - loss: 0.0013\n",
      "Epoch 23/25\n",
      "52/52 [==============================] - 1s 14ms/step - loss: 0.0012\n",
      "Epoch 24/25\n",
      "52/52 [==============================] - 1s 15ms/step - loss: 0.0013\n",
      "Epoch 25/25\n",
      "52/52 [==============================] - 1s 14ms/step - loss: 0.0011\n"
     ]
    },
    {
     "data": {
      "text/plain": [
       "<keras.callbacks.History at 0x2f286b158e0>"
      ]
     },
     "execution_count": 50,
     "metadata": {},
     "output_type": "execute_result"
    }
   ],
   "source": [
    "model.fit(x_train, y_train, epochs=25, batch_size=32)"
   ]
  },
  {
   "cell_type": "markdown",
   "id": "010cd04b",
   "metadata": {},
   "source": [
    "## Load Test Data"
   ]
  },
  {
   "cell_type": "code",
   "execution_count": 54,
   "id": "f3f2ffa6",
   "metadata": {},
   "outputs": [],
   "source": [
    "test_start = dt.datetime(2021, 1, 1)\n",
    "test_end = dt.datetime.now()\n",
    "\n",
    "test_data = web.get_data_stooq(company, start=test_start, end=test_end)"
   ]
  },
  {
   "cell_type": "code",
   "execution_count": 55,
   "id": "74116590",
   "metadata": {},
   "outputs": [
    {
     "data": {
      "text/plain": [
       "array([116.87  , 120.14  , 120.93  , 122.63  , 120.56  , 120.97  ,\n",
       "       120.01  , 121.08  , 119.01  , 119.09  , 123.02  , 123.87  ,\n",
       "       121.26  , 123.85  , 124.06  , 125.79  , 124.38  , 124.43  ,\n",
       "       124.35  , 122.87  , 122.67  , 122.94  , 127.91  , 126.63  ,\n",
       "       125.23  , 124.37  , 123.37  , 124.64  , 125.43  , 124.35  ,\n",
       "       121.64  , 123.29  , 125.87  , 123.25  , 123.52  , 121.48  ,\n",
       "       120.09  , 116.96  , 117.92  , 116.9   , 112.28  , 107.94  ,\n",
       "       108.24  , 106.215 , 105.21  , 106.12  , 105.98  , 107.71  ,\n",
       "       108.22  , 108.37  , 104.45  , 104.61  , 106.78  , 105.91  ,\n",
       "       105.9   , 105.02  , 105.12  , 106.42  , 109.46  , 108.19  ,\n",
       "       105.22  , 106.12  , 106.95  , 108.9   , 104.95  , 105.12  ,\n",
       "       104.91  , 104.    , 101.32  , 101.9   , 101.36  , 103.06  ,\n",
       "       106.06  , 106.26  , 104.22  , 105.84  , 101.93  , 102.46  ,\n",
       "       101.07  ,  96.55  ,  94.25  ,  91.66  ,  91.01  ,  92.66  ,\n",
       "        94.65  ,  94.17  ,  95.58  ,  94.02  ,  92.31  ,  90.51  ,\n",
       "        90.3   ,  90.1   ,  89.35  ,  91.07  ,  91.8   ,  92.05  ,\n",
       "        94.59  ,  95.78  ,  97.1   ,  94.95  ,  95.    ,  94.86  ,\n",
       "        95.46  , 100.    , 108.04  , 103.47  , 105.22  , 108.8   ,\n",
       "       101.43  ,  99.87  ,  97.95  , 100.71  ,  99.16  ,  96.73  ,\n",
       "        99.21  , 101.21  ,  99.28  ,  93.91  ,  91.78  ,  92.16  ,\n",
       "        92.8   ,  91.91  ,  92.26  ,  89.24  ,  88.8   ,  88.16  ,\n",
       "        86.77  ,  88.71  ,  89.7   ,  88.73  ,  88.95  ,  86.46  ,\n",
       "        87.93  ,  89.81  ,  88.26  ,  90.25  ,  89.63  ,  89.15  ,\n",
       "        90.86  ,  91.2   ,  95.31  ,  95.85  ,  93.56  ,  93.07  ,\n",
       "        93.95  ,  95.15  ,  97.31  ,  99.87  , 100.83  , 101.28  ,\n",
       "       101.45  ,  95.44  ,  96.25  ,  97.6   ,  98.82  ,  97.33  ,\n",
       "        95.83  ,  97.8   ,  98.5   ,  98.99  ,  98.72  ,  96.03  ,\n",
       "        96.73  ,  94.17  ,  87.4   ,  88.91  ,  88.65  ,  86.7   ,\n",
       "        83.49  ,  87.07  ,  90.5   ,  94.66  ,  96.58  ,  92.6   ,\n",
       "        94.82  , 104.93  , 102.97  , 101.48  , 100.53  , 100.29  ,\n",
       "       101.39  , 100.78  ,  97.18  ,  99.71  ,  98.3   ,  98.05  ,\n",
       "        98.71  ,  99.57  , 102.24  , 102.22  , 102.41  ,  99.3   ,\n",
       "        96.15  ,  98.09  , 100.74  ,  98.09  ,  98.81  ,  99.17  ,\n",
       "       100.57  , 100.01  , 101.83  , 103.85  , 103.63  , 103.9   ,\n",
       "       105.87  , 105.31  , 111.87  , 111.78  , 109.42  , 110.48  ,\n",
       "       107.48  , 108.68  , 110.55  , 109.15  , 109.91  , 110.34  ,\n",
       "       111.3   , 117.7   , 114.7   , 114.77  , 115.07  , 118.12  ,\n",
       "       120.86  , 120.32  , 122.51  , 122.88  , 122.65  , 119.82  ,\n",
       "       120.65  , 117.5   , 118.14  , 118.22  , 118.87  , 118.78  ,\n",
       "       115.9   , 115.48  , 116.64  , 114.59  , 113.6   , 105.44  ,\n",
       "       108.21  , 108.36  , 115.04  , 114.7   , 114.62  , 109.91  ,\n",
       "       112.767 , 111.44  , 112.187 , 114.849 , 116.522 , 120.168 ,\n",
       "       119.306 , 115.214 , 113.887 , 109.081 , 109.372 , 112.256 ,\n",
       "       112.571 , 116.622 , 118.538 , 112.684 , 112.034 , 112.015 ,\n",
       "       107.866 , 106.636 , 110.39  , 107.194 , 106.876 , 111.428 ,\n",
       "       114.918 , 117.238 , 117.23  , 117.011 , 114.564 , 117.746 ,\n",
       "       114.137 , 114.039 , 112.799 , 108.296 , 105.84  , 105.926 ,\n",
       "       111.666 , 109.313 , 110.746 , 112.401 , 116.702 , 114.792 ,\n",
       "       116.516 , 113.161 , 113.961 , 114.584 , 113.084 , 115.66  ,\n",
       "       116.746 , 122.575 , 118.13  , 117.157 , 114.966 , 119.412 ,\n",
       "       115.02  , 119.506 , 123.25  , 119.614 , 124.938 , 128.246 ,\n",
       "       130.531 , 127.961 , 127.253 , 130.286 , 128.374 , 129.796 ,\n",
       "       134.01  , 136.465 , 137.176 , 141.063 , 143.642 , 140.7   ,\n",
       "       139.65  , 142.644 , 143.25  , 141.95  , 141.522 , 141.312 ,\n",
       "       138.504 , 140.278 , 136.478 , 136.802 , 134.6   , 133.69  ,\n",
       "       129.661 , 126.741 , 130.476 , 132.682 , 133.866 , 127.279 ,\n",
       "       126.464 , 132.122 , 134.308 , 134.752 , 134.168 , 134.891 ,\n",
       "       134.52  , 132.674 , 127.585 , 129.402 , 130.468 , 132.308 ,\n",
       "       137.488 , 136.426 , 135.3   , 134.13  , 138.603 , 141.453 ,\n",
       "       139.213 , 138.938 , 143.016 , 142.651 , 148.036 , 137.878 ,\n",
       "       135.698 , 133.29  , 129.121 , 129.24  , 126.736 , 130.372 ,\n",
       "       130.092 , 133.507 , 135.652 , 136.29  , 139.786 , 139.131 ,\n",
       "       141.648 , 140.017 , 138.574 , 137.004 , 137.551 , 137.654 ,\n",
       "       144.416 , 145.074 , 144.68  , 146.002 , 146.504 , 146.448 ,\n",
       "       148.064 , 147.142 , 146.949 , 144.22  , 142.402 , 142.803 ,\n",
       "       144.838 , 147.368 , 144.97  , 146.704 , 148.675 , 148.106 ,\n",
       "       148.72  , 148.036 , 143.796 , 142.52  , 143.776 , 141.618 ,\n",
       "       142.452 , 146.114 , 142.806 , 146.718 , 146.757 , 147.079 ,\n",
       "       149.953 , 150.709 , 149.062 , 149.076 , 149.388 , 149.646 ,\n",
       "       146.748 , 146.626 , 149.248 , 149.352 , 149.241 , 148.683 ,\n",
       "       146.79  , 145.863 , 143.774 , 148.27  , 146.129 , 146.428 ,\n",
       "       139.672 , 138.773 , 138.625 , 142.781 , 142.415 , 143.822 ,\n",
       "       142.96  , 141.675 , 141.412 , 137.9   , 136.713 , 138.848 ,\n",
       "       140.056 , 139.186 , 137.354 , 136.177 , 133.765 , 136.462 ,\n",
       "       133.266 , 134.521 , 136.184 , 141.501 , 142.633 , 141.826 ,\n",
       "       140.938 , 139.646 , 139.017 , 141.464 , 144.373 , 145.206 ,\n",
       "       143.406 , 143.465 , 141.921 , 144.914 , 144.884 , 145.519 ,\n",
       "       144.775 , 144.219 , 145.842 , 145.462 , 145.469 , 144.55  ,\n",
       "       142.123 , 142.95  , 142.398 , 141.099 , 138.437 , 136.914 ,\n",
       "       136.57  , 137.3   , 138.916 , 138.406 , 138.39  , 137.69  ,\n",
       "       138.096 , 138.002 , 137.036 , 136.94  , 136.028 , 136.28  ,\n",
       "       135.99  , 135.221 , 136.54  , 136.382 , 136.796 , 139.644 ,\n",
       "       137.816 , 133.329 , 132.6   , 131.102 , 129.254 , 131.846 ,\n",
       "       131.266 , 132.082 , 130.994 , 130.564 , 129.574 , 129.177 ,\n",
       "       130.078 , 129.771 , 128.719 , 126.368 , 125.316 , 126.018 ,\n",
       "       126.819 , 126.995 , 127.282 , 126.462 , 126.999 , 126.455 ,\n",
       "       125.568 , 126.371 , 125.696 , 126.033 , 126.352 , 125.696 ,\n",
       "       126.08  , 124.57  , 124.142 , 123.304 , 122.588 , 120.23  ,\n",
       "       121.064 , 121.49  , 120.578 , 120.126 , 121.676 , 120.454 ,\n",
       "       120.334 , 117.255 , 117.804 , 115.436 , 115.172 , 116.07  ,\n",
       "       115.808 , 113.098 , 111.954 , 115.438 , 117.083 , 119.934 ,\n",
       "       119.068 , 117.837 , 117.712 , 119.758 , 120.506 , 121.494 ,\n",
       "       118.996 , 115.356 , 116.337 , 115.765 , 113.396 , 114.664 ,\n",
       "       114.682 , 115.12  , 114.888 , 114.833 , 112.742 , 113.364 ,\n",
       "       112.739 , 114.294 , 113.272 , 112.484 , 111.238 , 111.278 ,\n",
       "       106.888 , 103.432 , 102.777 , 102.797 , 101.778 , 102.218 ,\n",
       "       102.253 , 102.648 , 101.929 , 102.16  , 101.811 , 104.554 ,\n",
       "       104.626 , 103.324 , 103.096 , 105.738 , 102.752 , 102.635 ,\n",
       "       101.208 , 105.427 , 102.455 , 101.336 , 103.792 , 104.076 ,\n",
       "       101.843 , 101.568 , 104.758 , 103.543 , 103.244 , 105.057 ,\n",
       "       105.86  , 106.416 , 106.095 , 105.206 , 104.794 , 104.769 ,\n",
       "       104.176 , 104.646 , 104.9   , 103.118 , 103.504 ,  96.3755,\n",
       "        95.0675,  91.787 ,  93.1555,  91.5395,  95.862 ,  94.97  ,\n",
       "        95.0525,  94.5625,  94.345 ,  89.543 ,  86.8095,  87.009 ,\n",
       "        87.72  ,  87.3275,  88.336 ,  90.3605,  89.3625,  86.7645,\n",
       "        87.046 ,  86.412 ])"
      ]
     },
     "execution_count": 55,
     "metadata": {},
     "output_type": "execute_result"
    }
   ],
   "source": [
    "actual_prices = test_data[\"Close\"].values\n",
    "actual_prices"
   ]
  },
  {
   "cell_type": "code",
   "execution_count": 56,
   "id": "f551c5fb",
   "metadata": {},
   "outputs": [],
   "source": [
    "total_dataset = pd.concat((data['Close'], test_data['Close']), axis=0)"
   ]
  },
  {
   "cell_type": "code",
   "execution_count": 58,
   "id": "089a389f",
   "metadata": {},
   "outputs": [],
   "source": [
    "model_inputs = total_dataset[len(total_dataset) - len(test_data) - prediction_days:].values"
   ]
  },
  {
   "cell_type": "code",
   "execution_count": 59,
   "id": "b52e4ddf",
   "metadata": {},
   "outputs": [],
   "source": [
    "reshaped_model_inputs = model_inputs.reshape(-1, 1)"
   ]
  },
  {
   "cell_type": "code",
   "execution_count": 60,
   "id": "61d8d6f8",
   "metadata": {},
   "outputs": [],
   "source": [
    "scaled_model_inputs = scaler.transform(reshaped_model_inputs)"
   ]
  },
  {
   "cell_type": "code",
   "execution_count": 62,
   "id": "c3b59070",
   "metadata": {},
   "outputs": [],
   "source": [
    "x_test = []\n",
    "\n",
    "for x in range(prediction_days, len(model_inputs)):\n",
    "    x_test.append(scaled_model_inputs[x-prediction_days:x, 0])\n",
    "    \n",
    "x_test = np.array(x_test)\n",
    "x_test = np.reshape(x_test, (x_test.shape[0], x_test.shape[1], 1))"
   ]
  },
  {
   "cell_type": "code",
   "execution_count": 63,
   "id": "f2529229",
   "metadata": {},
   "outputs": [
    {
     "name": "stdout",
     "output_type": "stream",
     "text": [
      "20/20 [==============================] - 1s 25ms/step\n"
     ]
    }
   ],
   "source": [
    "predicted_prices = model.predict(x_test)\n",
    "predicted_prices = scaler.inverse_transform(predicted_prices)"
   ]
  },
  {
   "cell_type": "markdown",
   "id": "3d652bef",
   "metadata": {},
   "source": [
    "## Plot The Test Predictions"
   ]
  },
  {
   "cell_type": "code",
   "execution_count": 64,
   "id": "9cfae4a6",
   "metadata": {},
   "outputs": [
    {
     "data": {
      "image/png": "[encoded data removed]",
      "text/plain": [
       "<Figure size 432x288 with 1 Axes>"
      ]
     },
     "metadata": {
      "needs_background": "light"
     },
     "output_type": "display_data"
    }
   ],
   "source": [
    "plt.plot(actual_prices, color=\"black\", label=f\"Actual Price\")\n",
    "plt.plot(predicted_prices, color=\"green\", label=f\"Predicted Price\")\n",
    "plt.title('Share Price')\n",
    "plt.xlabel('Time')\n",
    "plt.ylabel('Share Price')\n",
    "plt.legend()\n",
    "plt.show()"
   ]
  },
  {
   "cell_type": "markdown",
   "id": "695b0e79",
   "metadata": {},
   "source": [
    "## Predict Next Day"
   ]
  },
  {
   "cell_type": "code",
   "execution_count": 68,
   "id": "05ebfdb2",
   "metadata": {},
   "outputs": [
    {
     "name": "stdout",
     "output_type": "stream",
     "text": [
      "1/1 [==============================] - 0s 21ms/step\n",
      "The Prediction is 86.54878997802734\n"
     ]
    }
   ],
   "source": [
    "real_data = [scaled_model_inputs[len(model_inputs) + 1 - prediction_days:len(model_inputs+1), 0]]\n",
    "real_data = np.array(real_data)\n",
    "real_data = np.reshape(real_data, (real_data.shape[0], real_data.shape[1], 1))\n",
    "\n",
    "prediction = model.predict(real_data)\n",
    "prediction = scaler.inverse_transform(prediction)\n",
    "\n",
    "print(f\"The Prediction is {prediction[0][0]}\")"
   ]
  },
  {
   "cell_type": "markdown",
   "id": "739305f2",
   "metadata": {},
   "source": [
    "## Save the Model"
   ]
  },
  {
   "cell_type": "code",
   "execution_count": 65,
   "id": "b3b95346",
   "metadata": {},
   "outputs": [],
   "source": [
    "model.save(\"models/google_model.h5\")"
   ]
  },
  {
   "cell_type": "markdown",
   "id": "d658780f",
   "metadata": {},
   "source": [
    "## Load the model"
   ]
  },
  {
   "cell_type": "code",
   "execution_count": null,
   "id": "36e2cd5b",
   "metadata": {},
   "outputs": [],
   "source": [
    "from tensorflow.keras.models import load_model\n",
    "model_dir = \"\"\n",
    "new_model = load_model(model_dir)"
   ]
  }
 ],
 "metadata": {
  "kernelspec": {
   "display_name": "Python 3",
   "language": "python",
   "name": "python3"
  },
  "language_info": {
   "codemirror_mode": {
    "name": "ipython",
    "version": 3
   },
   "file_extension": ".py",
   "mimetype": "text/x-python",
   "name": "python",
   "nbconvert_exporter": "python",
   "pygments_lexer": "ipython3",
   "version": "3.8.8"
  }
 },
 "nbformat": 4,
 "nbformat_minor": 5
}
